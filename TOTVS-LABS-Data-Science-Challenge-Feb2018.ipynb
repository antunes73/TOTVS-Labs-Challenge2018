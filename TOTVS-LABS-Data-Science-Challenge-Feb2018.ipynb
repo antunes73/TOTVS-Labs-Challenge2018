{
 "cells": [
  {
   "cell_type": "markdown",
   "metadata": {},
   "source": [
    "# Data Scientist - TOTVS Labs Challenge 2018\n",
    "\n",
    "Using the given dataset of transactions (notas fiscais eletrônicas) from a restaurant:\n",
    "https://github.com/TOTVS/MDMStatic/blob/master/code-challenge/TOTVS%20Labs%20-%20AI%20Challenge%20-%20Dataset.zip?raw=true \n",
    "\n",
    "1. Parse and extract the data.\n",
    "2. Identify a pattern on any set of fields that can help predict how much a customer will spend.\n",
    "3. Calculate a sales forecast for the next week.\n",
    "\n",
    "We recommend that you spend not more than 5 hours on the challenge.\n",
    "\n",
    "\n",
    "Evaluation criteria\n",
    "\n",
    "1. Ability to read/parse a dataset from a file.\n",
    "2. Understanding of common business data.\n",
    "3. Basic knowledge of artificial intelligence.\n",
    "4. Ability to build a model to identify correlations and patterns between fields.\n",
    "5. Code design\n",
    "6. Ability to write clear documentation\n",
    "7. BONUS: Ability to build a forecast model.\n",
    "\n",
    "\n",
    "Submission\n",
    "\n",
    "1. A link to the github repository.\n",
    "2. Briefly explain the models that you used/built"
   ]
  },
  {
   "cell_type": "markdown",
   "metadata": {
    "collapsed": true
   },
   "source": [
    "Let´s begin parsing and extracting the data."
   ]
  },
  {
   "cell_type": "code",
   "execution_count": 2,
   "metadata": {},
   "outputs": [],
   "source": [
    "import matplotlib.pyplot as plt\n",
    "import json\n",
    "import pandas as pd\n",
    "import numpy as np\n",
    "import seaborn as sns"
   ]
  },
  {
   "cell_type": "code",
   "execution_count": 3,
   "metadata": {},
   "outputs": [],
   "source": [
    "with open('sample.txt', 'r') as json_file:\n",
    "    json_data = json.load(json_file)"
   ]
  },
  {
   "cell_type": "code",
   "execution_count": 4,
   "metadata": {},
   "outputs": [
    {
     "data": {
      "text/plain": [
       "1635"
      ]
     },
     "execution_count": 4,
     "metadata": {},
     "output_type": "execute_result"
    }
   ],
   "source": [
    "len(json_data)"
   ]
  },
  {
   "cell_type": "markdown",
   "metadata": {},
   "source": [
    "A first look in the data"
   ]
  },
  {
   "cell_type": "code",
   "execution_count": 5,
   "metadata": {
    "scrolled": true
   },
   "outputs": [
    {
     "name": "stdout",
     "output_type": "stream",
     "text": [
      "{'complemento': {'valorTotal': 24.9}, 'dets': [{'nItem': '1', 'prod': {'indTot': '1', 'qCom': 1.0, 'uCom': 'UN', 'vProd': 3.5, 'vUnCom': 3.5, 'xProd': 'AGUA'}}, {'nItem': '2', 'prod': {'indTot': '1', 'qCom': 0.312, 'uCom': 'KG', 'vProd': 21.4, 'vUnCom': 68.6, 'xProd': 'BUFFET'}}], 'emit': {'cnpj': '01.234.567/0001-89', 'enderEmit': {'fone': '1-650-933-4902', 'xBairro': '', 'xLgr': '650 Castro St. unit 210', 'xMun': 'Mountain View', 'xPais': 'United States', 'uf': 'CA'}, 'xFant': 'TOTVS Labs'}, 'ide': {'dhEmi': {'$date': '2016-01-05T12:01:54.000Z'}, 'natOp': 'VENDA'}, 'infAdic': {'infCpl': 'Mesa 2'}, 'total': {'icmsTot': {'vDesc': 0.0, 'vFrete': 0.0, 'vOutro': 0.0, 'vProd': 24.9, 'vSeg': 0.0, 'vTotTrib': 2.53, 'vbc': 0.0, 'vbcst': 0.0, 'vcofins': 0.0, 'vicms': 0.0, 'vicmsDeson': 0.0, 'vii': 0.0, 'vipi': 0.0, 'vnf': 24.9, 'vpis': 0.0, 'vst': 0.0}}, 'versaoDocumento': 1.0}\n"
     ]
    }
   ],
   "source": [
    "print(json_data[0])"
   ]
  },
  {
   "cell_type": "markdown",
   "metadata": {},
   "source": [
    "As we have a nested json, we will need to parse it. First, the header of the document:"
   ]
  },
  {
   "cell_type": "code",
   "execution_count": 6,
   "metadata": {},
   "outputs": [
    {
     "data": {
      "text/html": [
       "<div>\n",
       "<style scoped>\n",
       "    .dataframe tbody tr th:only-of-type {\n",
       "        vertical-align: middle;\n",
       "    }\n",
       "\n",
       "    .dataframe tbody tr th {\n",
       "        vertical-align: top;\n",
       "    }\n",
       "\n",
       "    .dataframe thead th {\n",
       "        text-align: right;\n",
       "    }\n",
       "</style>\n",
       "<table border=\"1\" class=\"dataframe\">\n",
       "  <thead>\n",
       "    <tr style=\"text-align: right;\">\n",
       "      <th></th>\n",
       "      <th>Cnpj</th>\n",
       "      <th>DtHoraEmi</th>\n",
       "      <th>Municipio</th>\n",
       "      <th>ValorNota</th>\n",
       "      <th>NumNota</th>\n",
       "    </tr>\n",
       "  </thead>\n",
       "  <tbody>\n",
       "    <tr>\n",
       "      <th>0</th>\n",
       "      <td>01.234.567/0001-89</td>\n",
       "      <td>2016-01-05T12:01:54.000Z</td>\n",
       "      <td>Mountain View</td>\n",
       "      <td>24.90</td>\n",
       "      <td>1</td>\n",
       "    </tr>\n",
       "    <tr>\n",
       "      <th>1</th>\n",
       "      <td>01.234.567/0001-89</td>\n",
       "      <td>2016-01-05T12:03:52.000Z</td>\n",
       "      <td>Mountain View</td>\n",
       "      <td>92.53</td>\n",
       "      <td>2</td>\n",
       "    </tr>\n",
       "    <tr>\n",
       "      <th>2</th>\n",
       "      <td>01.234.567/0001-89</td>\n",
       "      <td>2016-01-05T12:16:40.000Z</td>\n",
       "      <td>Mountain View</td>\n",
       "      <td>57.86</td>\n",
       "      <td>3</td>\n",
       "    </tr>\n",
       "    <tr>\n",
       "      <th>3</th>\n",
       "      <td>01.234.567/0001-89</td>\n",
       "      <td>2016-01-05T12:17:50.000Z</td>\n",
       "      <td>Mountain View</td>\n",
       "      <td>34.97</td>\n",
       "      <td>4</td>\n",
       "    </tr>\n",
       "    <tr>\n",
       "      <th>4</th>\n",
       "      <td>01.234.567/0001-89</td>\n",
       "      <td>2016-01-05T12:18:35.000Z</td>\n",
       "      <td>Mountain View</td>\n",
       "      <td>46.23</td>\n",
       "      <td>5</td>\n",
       "    </tr>\n",
       "  </tbody>\n",
       "</table>\n",
       "</div>"
      ],
      "text/plain": [
       "                 Cnpj                 DtHoraEmi      Municipio  ValorNota  \\\n",
       "0  01.234.567/0001-89  2016-01-05T12:01:54.000Z  Mountain View      24.90   \n",
       "1  01.234.567/0001-89  2016-01-05T12:03:52.000Z  Mountain View      92.53   \n",
       "2  01.234.567/0001-89  2016-01-05T12:16:40.000Z  Mountain View      57.86   \n",
       "3  01.234.567/0001-89  2016-01-05T12:17:50.000Z  Mountain View      34.97   \n",
       "4  01.234.567/0001-89  2016-01-05T12:18:35.000Z  Mountain View      46.23   \n",
       "\n",
       "   NumNota  \n",
       "0        1  \n",
       "1        2  \n",
       "2        3  \n",
       "3        4  \n",
       "4        5  "
      ]
     },
     "execution_count": 6,
     "metadata": {},
     "output_type": "execute_result"
    }
   ],
   "source": [
    "li_vlnf = []\n",
    "li_cnpj = []\n",
    "li_mun = []\n",
    "li_dhemi = []\n",
    "for vlnf in json_data:\n",
    "    li_vlnf.extend([vlnf['complemento']['valorTotal']])\n",
    "    li_cnpj.extend([vlnf['emit']['cnpj']])\n",
    "    li_mun.extend([vlnf['emit']['enderEmit']['xMun']])\n",
    "    li_dhemi.extend([vlnf['ide']['dhEmi']['$date']])\n",
    "    \n",
    "list_labels = ['ValorNota', 'Cnpj', 'Municipio', 'DtHoraEmi']\n",
    "list_cols = [li_vlnf, li_cnpj, li_mun, li_dhemi]\n",
    "zipped = list(zip(list_labels, list_cols))\n",
    "\n",
    "di_nf = dict(zipped)\n",
    "df_nf = pd.DataFrame(di_nf)\n",
    "df_nf['NumNota'] = np.arange(1, len(df_nf) + 1)\n",
    "df_nf.head()"
   ]
  },
  {
   "cell_type": "code",
   "execution_count": 7,
   "metadata": {},
   "outputs": [
    {
     "name": "stdout",
     "output_type": "stream",
     "text": [
      "<class 'pandas.core.frame.DataFrame'>\n",
      "RangeIndex: 1635 entries, 0 to 1634\n",
      "Data columns (total 5 columns):\n",
      "Cnpj         1635 non-null object\n",
      "DtHoraEmi    1635 non-null object\n",
      "Municipio    1635 non-null object\n",
      "ValorNota    1635 non-null float64\n",
      "NumNota      1635 non-null int32\n",
      "dtypes: float64(1), int32(1), object(3)\n",
      "memory usage: 57.6+ KB\n"
     ]
    }
   ],
   "source": [
    "df_nf.info()"
   ]
  },
  {
   "cell_type": "markdown",
   "metadata": {},
   "source": [
    "Let's correct the field type"
   ]
  },
  {
   "cell_type": "code",
   "execution_count": 8,
   "metadata": {},
   "outputs": [
    {
     "data": {
      "text/html": [
       "<div>\n",
       "<style scoped>\n",
       "    .dataframe tbody tr th:only-of-type {\n",
       "        vertical-align: middle;\n",
       "    }\n",
       "\n",
       "    .dataframe tbody tr th {\n",
       "        vertical-align: top;\n",
       "    }\n",
       "\n",
       "    .dataframe thead th {\n",
       "        text-align: right;\n",
       "    }\n",
       "</style>\n",
       "<table border=\"1\" class=\"dataframe\">\n",
       "  <thead>\n",
       "    <tr style=\"text-align: right;\">\n",
       "      <th></th>\n",
       "      <th>Cnpj</th>\n",
       "      <th>DtHoraEmi</th>\n",
       "      <th>Municipio</th>\n",
       "      <th>ValorNota</th>\n",
       "      <th>NumNota</th>\n",
       "    </tr>\n",
       "  </thead>\n",
       "  <tbody>\n",
       "    <tr>\n",
       "      <th>0</th>\n",
       "      <td>01.234.567/0001-89</td>\n",
       "      <td>2016-01-05 12:01:54</td>\n",
       "      <td>Mountain View</td>\n",
       "      <td>24.90</td>\n",
       "      <td>1</td>\n",
       "    </tr>\n",
       "    <tr>\n",
       "      <th>1</th>\n",
       "      <td>01.234.567/0001-89</td>\n",
       "      <td>2016-01-05 12:03:52</td>\n",
       "      <td>Mountain View</td>\n",
       "      <td>92.53</td>\n",
       "      <td>2</td>\n",
       "    </tr>\n",
       "    <tr>\n",
       "      <th>2</th>\n",
       "      <td>01.234.567/0001-89</td>\n",
       "      <td>2016-01-05 12:16:40</td>\n",
       "      <td>Mountain View</td>\n",
       "      <td>57.86</td>\n",
       "      <td>3</td>\n",
       "    </tr>\n",
       "    <tr>\n",
       "      <th>3</th>\n",
       "      <td>01.234.567/0001-89</td>\n",
       "      <td>2016-01-05 12:17:50</td>\n",
       "      <td>Mountain View</td>\n",
       "      <td>34.97</td>\n",
       "      <td>4</td>\n",
       "    </tr>\n",
       "    <tr>\n",
       "      <th>4</th>\n",
       "      <td>01.234.567/0001-89</td>\n",
       "      <td>2016-01-05 12:18:35</td>\n",
       "      <td>Mountain View</td>\n",
       "      <td>46.23</td>\n",
       "      <td>5</td>\n",
       "    </tr>\n",
       "  </tbody>\n",
       "</table>\n",
       "</div>"
      ],
      "text/plain": [
       "                 Cnpj           DtHoraEmi      Municipio  ValorNota  NumNota\n",
       "0  01.234.567/0001-89 2016-01-05 12:01:54  Mountain View      24.90        1\n",
       "1  01.234.567/0001-89 2016-01-05 12:03:52  Mountain View      92.53        2\n",
       "2  01.234.567/0001-89 2016-01-05 12:16:40  Mountain View      57.86        3\n",
       "3  01.234.567/0001-89 2016-01-05 12:17:50  Mountain View      34.97        4\n",
       "4  01.234.567/0001-89 2016-01-05 12:18:35  Mountain View      46.23        5"
      ]
     },
     "execution_count": 8,
     "metadata": {},
     "output_type": "execute_result"
    }
   ],
   "source": [
    "df_nf['DtHoraEmi'] = pd.to_datetime(df_nf['DtHoraEmi'])\n",
    "df_nf.head()"
   ]
  },
  {
   "cell_type": "code",
   "execution_count": 9,
   "metadata": {},
   "outputs": [
    {
     "name": "stdout",
     "output_type": "stream",
     "text": [
      "<class 'pandas.core.frame.DataFrame'>\n",
      "RangeIndex: 1635 entries, 0 to 1634\n",
      "Data columns (total 5 columns):\n",
      "Cnpj         1635 non-null object\n",
      "DtHoraEmi    1635 non-null datetime64[ns]\n",
      "Municipio    1635 non-null object\n",
      "ValorNota    1635 non-null float64\n",
      "NumNota      1635 non-null int32\n",
      "dtypes: datetime64[ns](1), float64(1), int32(1), object(2)\n",
      "memory usage: 57.6+ KB\n"
     ]
    }
   ],
   "source": [
    "df_nf.info()"
   ]
  },
  {
   "cell_type": "markdown",
   "metadata": {},
   "source": [
    "Let´s check some features in our data if they make sense. Maybe we'll drop them:"
   ]
  },
  {
   "cell_type": "code",
   "execution_count": 10,
   "metadata": {},
   "outputs": [
    {
     "data": {
      "text/plain": [
       "01.234.567/0001-89    1635\n",
       "Name: Cnpj, dtype: int64"
      ]
     },
     "execution_count": 10,
     "metadata": {},
     "output_type": "execute_result"
    }
   ],
   "source": [
    "df_nf.Cnpj.value_counts()"
   ]
  },
  {
   "cell_type": "code",
   "execution_count": 11,
   "metadata": {},
   "outputs": [],
   "source": [
    "df_nf = df_nf.drop('Cnpj', axis=1)"
   ]
  },
  {
   "cell_type": "code",
   "execution_count": 12,
   "metadata": {},
   "outputs": [
    {
     "data": {
      "text/plain": [
       "Mountain View    1635\n",
       "Name: Municipio, dtype: int64"
      ]
     },
     "execution_count": 12,
     "metadata": {},
     "output_type": "execute_result"
    }
   ],
   "source": [
    "df_nf.Municipio.value_counts()"
   ]
  },
  {
   "cell_type": "code",
   "execution_count": 13,
   "metadata": {},
   "outputs": [],
   "source": [
    "df_nf = df_nf.drop('Municipio', axis=1)"
   ]
  },
  {
   "cell_type": "code",
   "execution_count": 14,
   "metadata": {},
   "outputs": [
    {
     "data": {
      "text/html": [
       "<div>\n",
       "<style scoped>\n",
       "    .dataframe tbody tr th:only-of-type {\n",
       "        vertical-align: middle;\n",
       "    }\n",
       "\n",
       "    .dataframe tbody tr th {\n",
       "        vertical-align: top;\n",
       "    }\n",
       "\n",
       "    .dataframe thead th {\n",
       "        text-align: right;\n",
       "    }\n",
       "</style>\n",
       "<table border=\"1\" class=\"dataframe\">\n",
       "  <thead>\n",
       "    <tr style=\"text-align: right;\">\n",
       "      <th></th>\n",
       "      <th>DtHoraEmi</th>\n",
       "      <th>ValorNota</th>\n",
       "      <th>NumNota</th>\n",
       "    </tr>\n",
       "    <tr>\n",
       "      <th>DtHoraEmi</th>\n",
       "      <th></th>\n",
       "      <th></th>\n",
       "      <th></th>\n",
       "    </tr>\n",
       "  </thead>\n",
       "  <tbody>\n",
       "    <tr>\n",
       "      <th>2016-01-05 12:01:54</th>\n",
       "      <td>2016-01-05 12:01:54</td>\n",
       "      <td>24.90</td>\n",
       "      <td>1</td>\n",
       "    </tr>\n",
       "    <tr>\n",
       "      <th>2016-01-05 12:03:52</th>\n",
       "      <td>2016-01-05 12:03:52</td>\n",
       "      <td>92.53</td>\n",
       "      <td>2</td>\n",
       "    </tr>\n",
       "    <tr>\n",
       "      <th>2016-01-05 12:16:40</th>\n",
       "      <td>2016-01-05 12:16:40</td>\n",
       "      <td>57.86</td>\n",
       "      <td>3</td>\n",
       "    </tr>\n",
       "    <tr>\n",
       "      <th>2016-01-05 12:17:50</th>\n",
       "      <td>2016-01-05 12:17:50</td>\n",
       "      <td>34.97</td>\n",
       "      <td>4</td>\n",
       "    </tr>\n",
       "    <tr>\n",
       "      <th>2016-01-05 12:18:35</th>\n",
       "      <td>2016-01-05 12:18:35</td>\n",
       "      <td>46.23</td>\n",
       "      <td>5</td>\n",
       "    </tr>\n",
       "  </tbody>\n",
       "</table>\n",
       "</div>"
      ],
      "text/plain": [
       "                              DtHoraEmi  ValorNota  NumNota\n",
       "DtHoraEmi                                                  \n",
       "2016-01-05 12:01:54 2016-01-05 12:01:54      24.90        1\n",
       "2016-01-05 12:03:52 2016-01-05 12:03:52      92.53        2\n",
       "2016-01-05 12:16:40 2016-01-05 12:16:40      57.86        3\n",
       "2016-01-05 12:17:50 2016-01-05 12:17:50      34.97        4\n",
       "2016-01-05 12:18:35 2016-01-05 12:18:35      46.23        5"
      ]
     },
     "execution_count": 14,
     "metadata": {},
     "output_type": "execute_result"
    }
   ],
   "source": [
    "df_nf.index = df_nf['DtHoraEmi']\n",
    "df_nf.head()"
   ]
  },
  {
   "cell_type": "markdown",
   "metadata": {},
   "source": [
    "Let's check for missing data:"
   ]
  },
  {
   "cell_type": "code",
   "execution_count": 15,
   "metadata": {},
   "outputs": [
    {
     "data": {
      "text/plain": [
       "False"
      ]
     },
     "execution_count": 15,
     "metadata": {},
     "output_type": "execute_result"
    }
   ],
   "source": [
    "df_nf.isnull().all().all()"
   ]
  },
  {
   "cell_type": "markdown",
   "metadata": {},
   "source": [
    "Good, we don't have any missing values."
   ]
  },
  {
   "cell_type": "markdown",
   "metadata": {},
   "source": [
    "Now let's do some **Exploratory Data Analysis (EDA)**"
   ]
  },
  {
   "cell_type": "code",
   "execution_count": 16,
   "metadata": {},
   "outputs": [
    {
     "data": {
      "text/plain": [
       "count    1635.000000\n",
       "mean       55.504171\n",
       "std        39.217462\n",
       "min         9.740000\n",
       "25%        30.985000\n",
       "50%        43.260000\n",
       "75%        69.230000\n",
       "max       608.910000\n",
       "Name: ValorNota, dtype: float64"
      ]
     },
     "execution_count": 16,
     "metadata": {},
     "output_type": "execute_result"
    }
   ],
   "source": [
    "df_nf['ValorNota'].describe()"
   ]
  },
  {
   "cell_type": "code",
   "execution_count": 17,
   "metadata": {},
   "outputs": [
    {
     "data": {
      "image/png": "[encoded data removed]",
      "text/plain": [
       "<matplotlib.figure.Figure at 0x1f99c81acc0>"
      ]
     },
     "metadata": {},
     "output_type": "display_data"
    }
   ],
   "source": [
    "pd.DataFrame.hist(df_nf[['ValorNota']], bins=50)\n",
    "plt.xlabel('Valor da Nota')\n",
    "plt.ylabel('Frequência')\n",
    "plt.show()"
   ]
  },
  {
   "cell_type": "markdown",
   "metadata": {},
   "source": [
    "Now we can get a sense of the overall pattern of the data from the histogram's shape and spread:"
   ]
  },
  {
   "cell_type": "markdown",
   "metadata": {},
   "source": [
    "### SHAPE"
   ]
  },
  {
   "cell_type": "markdown",
   "metadata": {},
   "source": [
    "The distribution is **unimodal** — it has one mode (roughly at **30**) around which the observations are concentrated and  **skewed right** (the term 'skew' refers to the direction of the longer tail)."
   ]
  },
  {
   "cell_type": "markdown",
   "metadata": {},
   "source": [
    "### SPREAD"
   ]
  },
  {
   "cell_type": "markdown",
   "metadata": {},
   "source": [
    "As a measure of spread (variability) of the distribuition we have:\n",
    "#### Range (Max - min) = 608.91 - 9.74 = ?"
   ]
  },
  {
   "cell_type": "code",
   "execution_count": 18,
   "metadata": {},
   "outputs": [
    {
     "name": "stdout",
     "output_type": "stream",
     "text": [
      "Range = 599.17\n"
     ]
    }
   ],
   "source": [
    "range = df_nf['ValorNota'].max() - df_nf['ValorNota'].min()\n",
    "print('Range = ' + str(range))"
   ]
  },
  {
   "cell_type": "markdown",
   "metadata": {},
   "source": [
    "#### Inter-quartile range (IQR)\n",
    "The IQR measures the variability of a distribution by giving us the range covered by the MIDDLE 50% of the data, where **IQR = Q3 - Q1** *(3rd quartile - 1st quartile)*"
   ]
  },
  {
   "cell_type": "code",
   "execution_count": 19,
   "metadata": {},
   "outputs": [
    {
     "name": "stdout",
     "output_type": "stream",
     "text": [
      "IQR = 38.24499999999999\n"
     ]
    }
   ],
   "source": [
    "Q1, Q3 = np.percentile(df_nf['ValorNota'], [25, 75])\n",
    "IQR = Q3 - Q1\n",
    "print('IQR = ' + str(IQR))"
   ]
  },
  {
   "cell_type": "markdown",
   "metadata": {},
   "source": [
    "Let's plot a visual representation of the five number summary and IQR:"
   ]
  },
  {
   "cell_type": "code",
   "execution_count": 20,
   "metadata": {
    "scrolled": false
   },
   "outputs": [
    {
     "data": {
      "image/png": "[encoded data removed]",
      "text/plain": [
       "<matplotlib.figure.Figure at 0x1f9a0b384e0>"
      ]
     },
     "metadata": {},
     "output_type": "display_data"
    }
   ],
   "source": [
    "df_nf.boxplot(column=\"ValorNota\",\n",
    "               return_type='axes',\n",
    "               figsize=(8,8))\n",
    "plt.text(x=0.75, y=df_nf['ValorNota'].quantile(0.75), s=\"3rd Quartile\", color='blue')\n",
    "plt.text(x=0.80, y=df_nf['ValorNota'].quantile(0.50), s=\"Median\", color='green')\n",
    "plt.text(x=0.75, y=df_nf['ValorNota'].quantile(0.25), s=\"1st Quartile\", color='blue')\n",
    "plt.text(x=0.90, y=df_nf['ValorNota'].min(), s=\"Min\")\n",
    "plt.text(x=0.90, y=df_nf['ValorNota'].max(), s=\"Max\")\n",
    "plt.text(x=0.65, y=df_nf['ValorNota'].quantile(0.75), s=\"IQR\", rotation=90, size=25)\n",
    "plt.text(x=0.90, y=250, s=\"Outliers\", rotation=90, size=20, color='red')\n",
    "plt.show()"
   ]
  },
  {
   "attachments": {},
   "cell_type": "markdown",
   "metadata": {},
   "source": [
    "Outliers are observations that fall outside the overall pattern. An observation is considered a suspected outlier if it is:\n",
    "    **below Q1 - 1.5(IQR)** or\n",
    "    **above Q3 + 1.5(IQR)** \n",
    "And, as we can see, we have several outliers on this data set.\n",
    "\n",
    "**Warning**: Even though it is an extreme value, if an outlier can be understood to have been produced by essentially the same sort of physical process as the rest of the data, and if such extreme values are expected to eventually occur again, then such an outlier indicates something important and interesting about the process you're investigating, and it should be kept in the data.\n",
    "\n",
    "On the other hand, an outlier might indicate a mistake in the data (like a typo, or a measuring error), in which case **it should be corrected if possible or else removed from the data** before calculating summary statistics or making inferences from the data (and the reason for the mistake should be investigated).\n",
    "\n",
    "![Limpando dados](http://nerdnumbers.com/wp-content/uploads/2014/07/data_cleaning.jpg)"
   ]
  },
  {
   "cell_type": "markdown",
   "metadata": {},
   "source": [
    "** 2-Identify a pattern on any set of fields that can help predict how much a customer will spend. **\n",
    "\n",
    "Now let's try to find some relationships between the value of the transactions and the others variables that we have on the data set.\n",
    "\n",
    "With the variable \"DtHoraEmi\" we can extract \"day\" (since the data are within the same month and year), \"week day\" and \"hour\", but, in this last case, as we don't see significant difference between hours, individually, we are going to \"break\" this information in 2 categorical values: lunch-time (from 11h to 15h) and dinner-time (from 18h to 23h)."
   ]
  },
  {
   "cell_type": "code",
   "execution_count": 21,
   "metadata": {},
   "outputs": [
    {
     "data": {
      "text/html": [
       "<div>\n",
       "<style scoped>\n",
       "    .dataframe tbody tr th:only-of-type {\n",
       "        vertical-align: middle;\n",
       "    }\n",
       "\n",
       "    .dataframe tbody tr th {\n",
       "        vertical-align: top;\n",
       "    }\n",
       "\n",
       "    .dataframe thead th {\n",
       "        text-align: right;\n",
       "    }\n",
       "</style>\n",
       "<table border=\"1\" class=\"dataframe\">\n",
       "  <thead>\n",
       "    <tr style=\"text-align: right;\">\n",
       "      <th></th>\n",
       "      <th>DtHoraEmi</th>\n",
       "      <th>ValorNota</th>\n",
       "      <th>NumNota</th>\n",
       "      <th>DofWeek</th>\n",
       "      <th>Day</th>\n",
       "      <th>Hour</th>\n",
       "    </tr>\n",
       "    <tr>\n",
       "      <th>DtHoraEmi</th>\n",
       "      <th></th>\n",
       "      <th></th>\n",
       "      <th></th>\n",
       "      <th></th>\n",
       "      <th></th>\n",
       "      <th></th>\n",
       "    </tr>\n",
       "  </thead>\n",
       "  <tbody>\n",
       "    <tr>\n",
       "      <th>2016-01-05 12:01:54</th>\n",
       "      <td>2016-01-05 12:01:54</td>\n",
       "      <td>24.90</td>\n",
       "      <td>1</td>\n",
       "      <td>1</td>\n",
       "      <td>5</td>\n",
       "      <td>lunch-time</td>\n",
       "    </tr>\n",
       "    <tr>\n",
       "      <th>2016-01-05 12:03:52</th>\n",
       "      <td>2016-01-05 12:03:52</td>\n",
       "      <td>92.53</td>\n",
       "      <td>2</td>\n",
       "      <td>1</td>\n",
       "      <td>5</td>\n",
       "      <td>lunch-time</td>\n",
       "    </tr>\n",
       "    <tr>\n",
       "      <th>2016-01-05 12:16:40</th>\n",
       "      <td>2016-01-05 12:16:40</td>\n",
       "      <td>57.86</td>\n",
       "      <td>3</td>\n",
       "      <td>1</td>\n",
       "      <td>5</td>\n",
       "      <td>lunch-time</td>\n",
       "    </tr>\n",
       "    <tr>\n",
       "      <th>2016-01-05 12:17:50</th>\n",
       "      <td>2016-01-05 12:17:50</td>\n",
       "      <td>34.97</td>\n",
       "      <td>4</td>\n",
       "      <td>1</td>\n",
       "      <td>5</td>\n",
       "      <td>lunch-time</td>\n",
       "    </tr>\n",
       "    <tr>\n",
       "      <th>2016-01-05 12:18:35</th>\n",
       "      <td>2016-01-05 12:18:35</td>\n",
       "      <td>46.23</td>\n",
       "      <td>5</td>\n",
       "      <td>1</td>\n",
       "      <td>5</td>\n",
       "      <td>lunch-time</td>\n",
       "    </tr>\n",
       "  </tbody>\n",
       "</table>\n",
       "</div>"
      ],
      "text/plain": [
       "                              DtHoraEmi  ValorNota  NumNota  DofWeek  Day  \\\n",
       "DtHoraEmi                                                                   \n",
       "2016-01-05 12:01:54 2016-01-05 12:01:54      24.90        1        1    5   \n",
       "2016-01-05 12:03:52 2016-01-05 12:03:52      92.53        2        1    5   \n",
       "2016-01-05 12:16:40 2016-01-05 12:16:40      57.86        3        1    5   \n",
       "2016-01-05 12:17:50 2016-01-05 12:17:50      34.97        4        1    5   \n",
       "2016-01-05 12:18:35 2016-01-05 12:18:35      46.23        5        1    5   \n",
       "\n",
       "                           Hour  \n",
       "DtHoraEmi                        \n",
       "2016-01-05 12:01:54  lunch-time  \n",
       "2016-01-05 12:03:52  lunch-time  \n",
       "2016-01-05 12:16:40  lunch-time  \n",
       "2016-01-05 12:17:50  lunch-time  \n",
       "2016-01-05 12:18:35  lunch-time  "
      ]
     },
     "execution_count": 21,
     "metadata": {},
     "output_type": "execute_result"
    }
   ],
   "source": [
    "import datetime\n",
    "df_nf['DofWeek'] = df_nf['DtHoraEmi'].dt.dayofweek #The day of the week with Monday=0, Sunday=6\n",
    "df_nf['Day'] = df_nf['DtHoraEmi'].dt.day\n",
    "df_nf['Hour'] = df_nf['DtHoraEmi'].apply(lambda x: 'lunch-time' if x.hour <= 15 else 'dinner-time')\n",
    "df_nf['Hour'] = df_nf['Hour'].astype('category')\n",
    "df_nf.head()"
   ]
  },
  {
   "cell_type": "code",
   "execution_count": 22,
   "metadata": {},
   "outputs": [
    {
     "data": {
      "image/png": "[encoded data removed]",
      "text/plain": [
       "<matplotlib.figure.Figure at 0x1f9a089cf60>"
      ]
     },
     "metadata": {},
     "output_type": "display_data"
    }
   ],
   "source": [
    "var = 'DofWeek'\n",
    "data = pd.concat([df_nf['ValorNota'], df_nf[var]], axis=1)\n",
    "f, ax = plt.subplots(figsize=(8, 6))\n",
    "fig = sns.boxplot(x=var, y=\"ValorNota\", data=data)\n",
    "fig.axis(ymin=0, ymax=200)\n",
    "plt.show()\n",
    "#The day of the week with Monday=0, Sunday=6"
   ]
  },
  {
   "cell_type": "markdown",
   "metadata": {},
   "source": [
    "We can see bigger values on Wednesdays and Saturdays!"
   ]
  },
  {
   "cell_type": "code",
   "execution_count": 23,
   "metadata": {},
   "outputs": [
    {
     "data": {
      "image/png": "[encoded data removed]",
      "text/plain": [
       "<matplotlib.figure.Figure at 0x1f9a0bd4d68>"
      ]
     },
     "metadata": {},
     "output_type": "display_data"
    }
   ],
   "source": [
    "var = 'Hour'\n",
    "data = pd.concat([df_nf['ValorNota'], df_nf[var]], axis=1)\n",
    "f, ax = plt.subplots(figsize=(8, 6))\n",
    "fig = sns.boxplot(x=var, y=\"ValorNota\", data=data)\n",
    "fig.axis(ymin=0, ymax=200)\n",
    "plt.show()"
   ]
  },
  {
   "cell_type": "markdown",
   "metadata": {},
   "source": [
    "Apparently, people are hungrier on \"dinner-time\"!"
   ]
  },
  {
   "cell_type": "markdown",
   "metadata": {},
   "source": [
    "Let´s try to see both features at the same time:"
   ]
  },
  {
   "cell_type": "code",
   "execution_count": 25,
   "metadata": {},
   "outputs": [
    {
     "data": {
      "image/png": "[encoded data removed]",
      "text/plain": [
       "<matplotlib.figure.Figure at 0x1f9a0ce5278>"
      ]
     },
     "metadata": {},
     "output_type": "display_data"
    }
   ],
   "source": [
    "sns.swarmplot(x=\"DofWeek\", y=\"ValorNota\", data=df_nf, hue='Hour')\n",
    "plt.show()"
   ]
  },
  {
   "cell_type": "code",
   "execution_count": 26,
   "metadata": {},
   "outputs": [
    {
     "data": {
      "image/png": "[encoded data removed]",
      "text/plain": [
       "<matplotlib.figure.Figure at 0x1f9a0cb88d0>"
      ]
     },
     "metadata": {},
     "output_type": "display_data"
    }
   ],
   "source": [
    "var = 'Day'\n",
    "data = pd.concat([df_nf['ValorNota'], df_nf[var]], axis=1)\n",
    "f, ax = plt.subplots(figsize=(8, 6))\n",
    "fig = sns.boxplot(x=var, y=\"ValorNota\", data=data)\n",
    "fig.axis(ymin=0, ymax=200)\n",
    "plt.show()"
   ]
  },
  {
   "cell_type": "markdown",
   "metadata": {},
   "source": [
    "Dealing with categorical features\n",
    "\n",
    "● Scikit-learn will not accept categorical features by default\n",
    "\n",
    "● Need to encode categorical features numerically\n",
    "\n",
    "● Convert to ‘dummy variables’"
   ]
  },
  {
   "cell_type": "code",
   "execution_count": 27,
   "metadata": {},
   "outputs": [
    {
     "data": {
      "text/html": [
       "<div>\n",
       "<style scoped>\n",
       "    .dataframe tbody tr th:only-of-type {\n",
       "        vertical-align: middle;\n",
       "    }\n",
       "\n",
       "    .dataframe tbody tr th {\n",
       "        vertical-align: top;\n",
       "    }\n",
       "\n",
       "    .dataframe thead th {\n",
       "        text-align: right;\n",
       "    }\n",
       "</style>\n",
       "<table border=\"1\" class=\"dataframe\">\n",
       "  <thead>\n",
       "    <tr style=\"text-align: right;\">\n",
       "      <th></th>\n",
       "      <th>DtHoraEmi</th>\n",
       "      <th>ValorNota</th>\n",
       "      <th>NumNota</th>\n",
       "      <th>DofWeek</th>\n",
       "      <th>Day</th>\n",
       "      <th>Hour</th>\n",
       "      <th>dinner-time</th>\n",
       "      <th>lunch-time</th>\n",
       "    </tr>\n",
       "    <tr>\n",
       "      <th>DtHoraEmi</th>\n",
       "      <th></th>\n",
       "      <th></th>\n",
       "      <th></th>\n",
       "      <th></th>\n",
       "      <th></th>\n",
       "      <th></th>\n",
       "      <th></th>\n",
       "      <th></th>\n",
       "    </tr>\n",
       "  </thead>\n",
       "  <tbody>\n",
       "    <tr>\n",
       "      <th>2016-01-05 12:01:54</th>\n",
       "      <td>2016-01-05 12:01:54</td>\n",
       "      <td>24.90</td>\n",
       "      <td>1</td>\n",
       "      <td>1</td>\n",
       "      <td>5</td>\n",
       "      <td>lunch-time</td>\n",
       "      <td>0</td>\n",
       "      <td>1</td>\n",
       "    </tr>\n",
       "    <tr>\n",
       "      <th>2016-01-05 12:03:52</th>\n",
       "      <td>2016-01-05 12:03:52</td>\n",
       "      <td>92.53</td>\n",
       "      <td>2</td>\n",
       "      <td>1</td>\n",
       "      <td>5</td>\n",
       "      <td>lunch-time</td>\n",
       "      <td>0</td>\n",
       "      <td>1</td>\n",
       "    </tr>\n",
       "    <tr>\n",
       "      <th>2016-01-05 12:16:40</th>\n",
       "      <td>2016-01-05 12:16:40</td>\n",
       "      <td>57.86</td>\n",
       "      <td>3</td>\n",
       "      <td>1</td>\n",
       "      <td>5</td>\n",
       "      <td>lunch-time</td>\n",
       "      <td>0</td>\n",
       "      <td>1</td>\n",
       "    </tr>\n",
       "    <tr>\n",
       "      <th>2016-01-05 12:17:50</th>\n",
       "      <td>2016-01-05 12:17:50</td>\n",
       "      <td>34.97</td>\n",
       "      <td>4</td>\n",
       "      <td>1</td>\n",
       "      <td>5</td>\n",
       "      <td>lunch-time</td>\n",
       "      <td>0</td>\n",
       "      <td>1</td>\n",
       "    </tr>\n",
       "    <tr>\n",
       "      <th>2016-01-05 12:18:35</th>\n",
       "      <td>2016-01-05 12:18:35</td>\n",
       "      <td>46.23</td>\n",
       "      <td>5</td>\n",
       "      <td>1</td>\n",
       "      <td>5</td>\n",
       "      <td>lunch-time</td>\n",
       "      <td>0</td>\n",
       "      <td>1</td>\n",
       "    </tr>\n",
       "  </tbody>\n",
       "</table>\n",
       "</div>"
      ],
      "text/plain": [
       "                              DtHoraEmi  ValorNota  NumNota  DofWeek  Day  \\\n",
       "DtHoraEmi                                                                   \n",
       "2016-01-05 12:01:54 2016-01-05 12:01:54      24.90        1        1    5   \n",
       "2016-01-05 12:03:52 2016-01-05 12:03:52      92.53        2        1    5   \n",
       "2016-01-05 12:16:40 2016-01-05 12:16:40      57.86        3        1    5   \n",
       "2016-01-05 12:17:50 2016-01-05 12:17:50      34.97        4        1    5   \n",
       "2016-01-05 12:18:35 2016-01-05 12:18:35      46.23        5        1    5   \n",
       "\n",
       "                           Hour  dinner-time  lunch-time  \n",
       "DtHoraEmi                                                 \n",
       "2016-01-05 12:01:54  lunch-time            0           1  \n",
       "2016-01-05 12:03:52  lunch-time            0           1  \n",
       "2016-01-05 12:16:40  lunch-time            0           1  \n",
       "2016-01-05 12:17:50  lunch-time            0           1  \n",
       "2016-01-05 12:18:35  lunch-time            0           1  "
      ]
     },
     "execution_count": 27,
     "metadata": {},
     "output_type": "execute_result"
    }
   ],
   "source": [
    "dummies = pd.get_dummies(df_nf['Hour'])\n",
    "df_nf = pd.concat([df_nf, dummies], axis=1)\n",
    "df_nf.head()"
   ]
  },
  {
   "cell_type": "code",
   "execution_count": 28,
   "metadata": {},
   "outputs": [
    {
     "name": "stdout",
     "output_type": "stream",
     "text": [
      "<class 'pandas.core.frame.DataFrame'>\n",
      "DatetimeIndex: 1635 entries, 2016-01-05 12:01:54 to 2016-01-23 14:56:35\n",
      "Data columns (total 8 columns):\n",
      "DtHoraEmi      1635 non-null datetime64[ns]\n",
      "ValorNota      1635 non-null float64\n",
      "NumNota        1635 non-null int32\n",
      "DofWeek        1635 non-null int64\n",
      "Day            1635 non-null int64\n",
      "Hour           1635 non-null category\n",
      "dinner-time    1635 non-null uint8\n",
      "lunch-time     1635 non-null uint8\n",
      "dtypes: category(1), datetime64[ns](1), float64(1), int32(1), int64(2), uint8(2)\n",
      "memory usage: 155.1 KB\n"
     ]
    }
   ],
   "source": [
    "df_nf.info()"
   ]
  },
  {
   "cell_type": "code",
   "execution_count": 29,
   "metadata": {},
   "outputs": [
    {
     "data": {
      "text/html": [
       "<div>\n",
       "<style scoped>\n",
       "    .dataframe tbody tr th:only-of-type {\n",
       "        vertical-align: middle;\n",
       "    }\n",
       "\n",
       "    .dataframe tbody tr th {\n",
       "        vertical-align: top;\n",
       "    }\n",
       "\n",
       "    .dataframe thead th {\n",
       "        text-align: right;\n",
       "    }\n",
       "</style>\n",
       "<table border=\"1\" class=\"dataframe\">\n",
       "  <thead>\n",
       "    <tr style=\"text-align: right;\">\n",
       "      <th></th>\n",
       "      <th>DtHoraEmi</th>\n",
       "      <th>ValorNota</th>\n",
       "      <th>NumNota</th>\n",
       "      <th>DofWeek</th>\n",
       "      <th>Day</th>\n",
       "      <th>Hour</th>\n",
       "      <th>dinner-time</th>\n",
       "      <th>lunch-time</th>\n",
       "      <th>DoW_0</th>\n",
       "      <th>DoW_1</th>\n",
       "      <th>DoW_2</th>\n",
       "      <th>DoW_3</th>\n",
       "      <th>DoW_4</th>\n",
       "      <th>DoW_5</th>\n",
       "    </tr>\n",
       "    <tr>\n",
       "      <th>DtHoraEmi</th>\n",
       "      <th></th>\n",
       "      <th></th>\n",
       "      <th></th>\n",
       "      <th></th>\n",
       "      <th></th>\n",
       "      <th></th>\n",
       "      <th></th>\n",
       "      <th></th>\n",
       "      <th></th>\n",
       "      <th></th>\n",
       "      <th></th>\n",
       "      <th></th>\n",
       "      <th></th>\n",
       "      <th></th>\n",
       "    </tr>\n",
       "  </thead>\n",
       "  <tbody>\n",
       "    <tr>\n",
       "      <th>2016-01-05 12:01:54</th>\n",
       "      <td>2016-01-05 12:01:54</td>\n",
       "      <td>24.90</td>\n",
       "      <td>1</td>\n",
       "      <td>1</td>\n",
       "      <td>5</td>\n",
       "      <td>lunch-time</td>\n",
       "      <td>0</td>\n",
       "      <td>1</td>\n",
       "      <td>0</td>\n",
       "      <td>1</td>\n",
       "      <td>0</td>\n",
       "      <td>0</td>\n",
       "      <td>0</td>\n",
       "      <td>0</td>\n",
       "    </tr>\n",
       "    <tr>\n",
       "      <th>2016-01-05 12:03:52</th>\n",
       "      <td>2016-01-05 12:03:52</td>\n",
       "      <td>92.53</td>\n",
       "      <td>2</td>\n",
       "      <td>1</td>\n",
       "      <td>5</td>\n",
       "      <td>lunch-time</td>\n",
       "      <td>0</td>\n",
       "      <td>1</td>\n",
       "      <td>0</td>\n",
       "      <td>1</td>\n",
       "      <td>0</td>\n",
       "      <td>0</td>\n",
       "      <td>0</td>\n",
       "      <td>0</td>\n",
       "    </tr>\n",
       "    <tr>\n",
       "      <th>2016-01-05 12:16:40</th>\n",
       "      <td>2016-01-05 12:16:40</td>\n",
       "      <td>57.86</td>\n",
       "      <td>3</td>\n",
       "      <td>1</td>\n",
       "      <td>5</td>\n",
       "      <td>lunch-time</td>\n",
       "      <td>0</td>\n",
       "      <td>1</td>\n",
       "      <td>0</td>\n",
       "      <td>1</td>\n",
       "      <td>0</td>\n",
       "      <td>0</td>\n",
       "      <td>0</td>\n",
       "      <td>0</td>\n",
       "    </tr>\n",
       "    <tr>\n",
       "      <th>2016-01-05 12:17:50</th>\n",
       "      <td>2016-01-05 12:17:50</td>\n",
       "      <td>34.97</td>\n",
       "      <td>4</td>\n",
       "      <td>1</td>\n",
       "      <td>5</td>\n",
       "      <td>lunch-time</td>\n",
       "      <td>0</td>\n",
       "      <td>1</td>\n",
       "      <td>0</td>\n",
       "      <td>1</td>\n",
       "      <td>0</td>\n",
       "      <td>0</td>\n",
       "      <td>0</td>\n",
       "      <td>0</td>\n",
       "    </tr>\n",
       "    <tr>\n",
       "      <th>2016-01-05 12:18:35</th>\n",
       "      <td>2016-01-05 12:18:35</td>\n",
       "      <td>46.23</td>\n",
       "      <td>5</td>\n",
       "      <td>1</td>\n",
       "      <td>5</td>\n",
       "      <td>lunch-time</td>\n",
       "      <td>0</td>\n",
       "      <td>1</td>\n",
       "      <td>0</td>\n",
       "      <td>1</td>\n",
       "      <td>0</td>\n",
       "      <td>0</td>\n",
       "      <td>0</td>\n",
       "      <td>0</td>\n",
       "    </tr>\n",
       "  </tbody>\n",
       "</table>\n",
       "</div>"
      ],
      "text/plain": [
       "                              DtHoraEmi  ValorNota  NumNota  DofWeek  Day  \\\n",
       "DtHoraEmi                                                                   \n",
       "2016-01-05 12:01:54 2016-01-05 12:01:54      24.90        1        1    5   \n",
       "2016-01-05 12:03:52 2016-01-05 12:03:52      92.53        2        1    5   \n",
       "2016-01-05 12:16:40 2016-01-05 12:16:40      57.86        3        1    5   \n",
       "2016-01-05 12:17:50 2016-01-05 12:17:50      34.97        4        1    5   \n",
       "2016-01-05 12:18:35 2016-01-05 12:18:35      46.23        5        1    5   \n",
       "\n",
       "                           Hour  dinner-time  lunch-time  DoW_0  DoW_1  DoW_2  \\\n",
       "DtHoraEmi                                                                       \n",
       "2016-01-05 12:01:54  lunch-time            0           1      0      1      0   \n",
       "2016-01-05 12:03:52  lunch-time            0           1      0      1      0   \n",
       "2016-01-05 12:16:40  lunch-time            0           1      0      1      0   \n",
       "2016-01-05 12:17:50  lunch-time            0           1      0      1      0   \n",
       "2016-01-05 12:18:35  lunch-time            0           1      0      1      0   \n",
       "\n",
       "                     DoW_3  DoW_4  DoW_5  \n",
       "DtHoraEmi                                 \n",
       "2016-01-05 12:01:54      0      0      0  \n",
       "2016-01-05 12:03:52      0      0      0  \n",
       "2016-01-05 12:16:40      0      0      0  \n",
       "2016-01-05 12:17:50      0      0      0  \n",
       "2016-01-05 12:18:35      0      0      0  "
      ]
     },
     "execution_count": 29,
     "metadata": {},
     "output_type": "execute_result"
    }
   ],
   "source": [
    "dummies = pd.get_dummies(df_nf['DofWeek'], prefix='DoW')\n",
    "df_nf = pd.concat([df_nf, dummies], axis=1)\n",
    "df_nf.head()"
   ]
  },
  {
   "cell_type": "code",
   "execution_count": 30,
   "metadata": {},
   "outputs": [
    {
     "data": {
      "text/html": [
       "<div>\n",
       "<style scoped>\n",
       "    .dataframe tbody tr th:only-of-type {\n",
       "        vertical-align: middle;\n",
       "    }\n",
       "\n",
       "    .dataframe tbody tr th {\n",
       "        vertical-align: top;\n",
       "    }\n",
       "\n",
       "    .dataframe thead th {\n",
       "        text-align: right;\n",
       "    }\n",
       "</style>\n",
       "<table border=\"1\" class=\"dataframe\">\n",
       "  <thead>\n",
       "    <tr style=\"text-align: right;\">\n",
       "      <th></th>\n",
       "      <th>DtHoraEmi</th>\n",
       "      <th>ValorNota</th>\n",
       "      <th>NumNota</th>\n",
       "      <th>DofWeek</th>\n",
       "      <th>Day</th>\n",
       "      <th>Hour</th>\n",
       "      <th>dinner-time</th>\n",
       "      <th>lunch-time</th>\n",
       "      <th>DoW_0</th>\n",
       "      <th>DoW_1</th>\n",
       "      <th>...</th>\n",
       "      <th>Day_13</th>\n",
       "      <th>Day_14</th>\n",
       "      <th>Day_15</th>\n",
       "      <th>Day_16</th>\n",
       "      <th>Day_18</th>\n",
       "      <th>Day_19</th>\n",
       "      <th>Day_20</th>\n",
       "      <th>Day_21</th>\n",
       "      <th>Day_22</th>\n",
       "      <th>Day_23</th>\n",
       "    </tr>\n",
       "    <tr>\n",
       "      <th>DtHoraEmi</th>\n",
       "      <th></th>\n",
       "      <th></th>\n",
       "      <th></th>\n",
       "      <th></th>\n",
       "      <th></th>\n",
       "      <th></th>\n",
       "      <th></th>\n",
       "      <th></th>\n",
       "      <th></th>\n",
       "      <th></th>\n",
       "      <th></th>\n",
       "      <th></th>\n",
       "      <th></th>\n",
       "      <th></th>\n",
       "      <th></th>\n",
       "      <th></th>\n",
       "      <th></th>\n",
       "      <th></th>\n",
       "      <th></th>\n",
       "      <th></th>\n",
       "      <th></th>\n",
       "    </tr>\n",
       "  </thead>\n",
       "  <tbody>\n",
       "    <tr>\n",
       "      <th>2016-01-05 12:01:54</th>\n",
       "      <td>2016-01-05 12:01:54</td>\n",
       "      <td>24.90</td>\n",
       "      <td>1</td>\n",
       "      <td>1</td>\n",
       "      <td>5</td>\n",
       "      <td>lunch-time</td>\n",
       "      <td>0</td>\n",
       "      <td>1</td>\n",
       "      <td>0</td>\n",
       "      <td>1</td>\n",
       "      <td>...</td>\n",
       "      <td>0</td>\n",
       "      <td>0</td>\n",
       "      <td>0</td>\n",
       "      <td>0</td>\n",
       "      <td>0</td>\n",
       "      <td>0</td>\n",
       "      <td>0</td>\n",
       "      <td>0</td>\n",
       "      <td>0</td>\n",
       "      <td>0</td>\n",
       "    </tr>\n",
       "    <tr>\n",
       "      <th>2016-01-05 12:03:52</th>\n",
       "      <td>2016-01-05 12:03:52</td>\n",
       "      <td>92.53</td>\n",
       "      <td>2</td>\n",
       "      <td>1</td>\n",
       "      <td>5</td>\n",
       "      <td>lunch-time</td>\n",
       "      <td>0</td>\n",
       "      <td>1</td>\n",
       "      <td>0</td>\n",
       "      <td>1</td>\n",
       "      <td>...</td>\n",
       "      <td>0</td>\n",
       "      <td>0</td>\n",
       "      <td>0</td>\n",
       "      <td>0</td>\n",
       "      <td>0</td>\n",
       "      <td>0</td>\n",
       "      <td>0</td>\n",
       "      <td>0</td>\n",
       "      <td>0</td>\n",
       "      <td>0</td>\n",
       "    </tr>\n",
       "    <tr>\n",
       "      <th>2016-01-05 12:16:40</th>\n",
       "      <td>2016-01-05 12:16:40</td>\n",
       "      <td>57.86</td>\n",
       "      <td>3</td>\n",
       "      <td>1</td>\n",
       "      <td>5</td>\n",
       "      <td>lunch-time</td>\n",
       "      <td>0</td>\n",
       "      <td>1</td>\n",
       "      <td>0</td>\n",
       "      <td>1</td>\n",
       "      <td>...</td>\n",
       "      <td>0</td>\n",
       "      <td>0</td>\n",
       "      <td>0</td>\n",
       "      <td>0</td>\n",
       "      <td>0</td>\n",
       "      <td>0</td>\n",
       "      <td>0</td>\n",
       "      <td>0</td>\n",
       "      <td>0</td>\n",
       "      <td>0</td>\n",
       "    </tr>\n",
       "    <tr>\n",
       "      <th>2016-01-05 12:17:50</th>\n",
       "      <td>2016-01-05 12:17:50</td>\n",
       "      <td>34.97</td>\n",
       "      <td>4</td>\n",
       "      <td>1</td>\n",
       "      <td>5</td>\n",
       "      <td>lunch-time</td>\n",
       "      <td>0</td>\n",
       "      <td>1</td>\n",
       "      <td>0</td>\n",
       "      <td>1</td>\n",
       "      <td>...</td>\n",
       "      <td>0</td>\n",
       "      <td>0</td>\n",
       "      <td>0</td>\n",
       "      <td>0</td>\n",
       "      <td>0</td>\n",
       "      <td>0</td>\n",
       "      <td>0</td>\n",
       "      <td>0</td>\n",
       "      <td>0</td>\n",
       "      <td>0</td>\n",
       "    </tr>\n",
       "    <tr>\n",
       "      <th>2016-01-05 12:18:35</th>\n",
       "      <td>2016-01-05 12:18:35</td>\n",
       "      <td>46.23</td>\n",
       "      <td>5</td>\n",
       "      <td>1</td>\n",
       "      <td>5</td>\n",
       "      <td>lunch-time</td>\n",
       "      <td>0</td>\n",
       "      <td>1</td>\n",
       "      <td>0</td>\n",
       "      <td>1</td>\n",
       "      <td>...</td>\n",
       "      <td>0</td>\n",
       "      <td>0</td>\n",
       "      <td>0</td>\n",
       "      <td>0</td>\n",
       "      <td>0</td>\n",
       "      <td>0</td>\n",
       "      <td>0</td>\n",
       "      <td>0</td>\n",
       "      <td>0</td>\n",
       "      <td>0</td>\n",
       "    </tr>\n",
       "  </tbody>\n",
       "</table>\n",
       "<p>5 rows × 31 columns</p>\n",
       "</div>"
      ],
      "text/plain": [
       "                              DtHoraEmi  ValorNota  NumNota  DofWeek  Day  \\\n",
       "DtHoraEmi                                                                   \n",
       "2016-01-05 12:01:54 2016-01-05 12:01:54      24.90        1        1    5   \n",
       "2016-01-05 12:03:52 2016-01-05 12:03:52      92.53        2        1    5   \n",
       "2016-01-05 12:16:40 2016-01-05 12:16:40      57.86        3        1    5   \n",
       "2016-01-05 12:17:50 2016-01-05 12:17:50      34.97        4        1    5   \n",
       "2016-01-05 12:18:35 2016-01-05 12:18:35      46.23        5        1    5   \n",
       "\n",
       "                           Hour  dinner-time  lunch-time  DoW_0  DoW_1  \\\n",
       "DtHoraEmi                                                                \n",
       "2016-01-05 12:01:54  lunch-time            0           1      0      1   \n",
       "2016-01-05 12:03:52  lunch-time            0           1      0      1   \n",
       "2016-01-05 12:16:40  lunch-time            0           1      0      1   \n",
       "2016-01-05 12:17:50  lunch-time            0           1      0      1   \n",
       "2016-01-05 12:18:35  lunch-time            0           1      0      1   \n",
       "\n",
       "                      ...    Day_13  Day_14  Day_15  Day_16  Day_18  Day_19  \\\n",
       "DtHoraEmi             ...                                                     \n",
       "2016-01-05 12:01:54   ...         0       0       0       0       0       0   \n",
       "2016-01-05 12:03:52   ...         0       0       0       0       0       0   \n",
       "2016-01-05 12:16:40   ...         0       0       0       0       0       0   \n",
       "2016-01-05 12:17:50   ...         0       0       0       0       0       0   \n",
       "2016-01-05 12:18:35   ...         0       0       0       0       0       0   \n",
       "\n",
       "                     Day_20  Day_21  Day_22  Day_23  \n",
       "DtHoraEmi                                            \n",
       "2016-01-05 12:01:54       0       0       0       0  \n",
       "2016-01-05 12:03:52       0       0       0       0  \n",
       "2016-01-05 12:16:40       0       0       0       0  \n",
       "2016-01-05 12:17:50       0       0       0       0  \n",
       "2016-01-05 12:18:35       0       0       0       0  \n",
       "\n",
       "[5 rows x 31 columns]"
      ]
     },
     "execution_count": 30,
     "metadata": {},
     "output_type": "execute_result"
    }
   ],
   "source": [
    "dummies = pd.get_dummies(df_nf['Day'], prefix='Day')\n",
    "df_nf = pd.concat([df_nf, dummies], axis=1)\n",
    "df_nf.head()"
   ]
  },
  {
   "cell_type": "code",
   "execution_count": 31,
   "metadata": {},
   "outputs": [],
   "source": [
    "from sklearn.model_selection import train_test_split"
   ]
  },
  {
   "cell_type": "code",
   "execution_count": 32,
   "metadata": {},
   "outputs": [],
   "source": [
    "from sklearn.linear_model import Ridge"
   ]
  },
  {
   "cell_type": "code",
   "execution_count": 33,
   "metadata": {},
   "outputs": [
    {
     "data": {
      "text/plain": [
       "0.09530936088869424"
      ]
     },
     "execution_count": 33,
     "metadata": {},
     "output_type": "execute_result"
    }
   ],
   "source": [
    "#Ridge regression in scikit-learn\n",
    "X = df_nf.drop(['DtHoraEmi', 'ValorNota', 'NumNota', 'DofWeek', 'Day', 'Hour'], axis=1).values\n",
    "y = df_nf['ValorNota'].values\n",
    "X_train, X_test, y_train, y_test = train_test_split(X, y, test_size=0.3, random_state=42)\n",
    "ridge = Ridge(alpha=0.5, normalize=True).fit(X_train, y_train)\n",
    "ridge.score(X_test, y_test)"
   ]
  },
  {
   "cell_type": "markdown",
   "metadata": {},
   "source": [
    "**3. Calculate a sales forecast for the next week.**"
   ]
  },
  {
   "cell_type": "code",
   "execution_count": 34,
   "metadata": {},
   "outputs": [],
   "source": [
    "df_week = df_nf['ValorNota'].resample('W').sum()"
   ]
  },
  {
   "cell_type": "code",
   "execution_count": 35,
   "metadata": {},
   "outputs": [
    {
     "data": {
      "image/png": "[encoded data removed]",
      "text/plain": [
       "<matplotlib.figure.Figure at 0x1f9a1268400>"
      ]
     },
     "metadata": {},
     "output_type": "display_data"
    }
   ],
   "source": [
    "df_nf['ValorNota'].plot()\n",
    "plt.show()"
   ]
  },
  {
   "cell_type": "code",
   "execution_count": 36,
   "metadata": {},
   "outputs": [
    {
     "data": {
      "image/png": "[encoded data removed]",
      "text/plain": [
       "<matplotlib.figure.Figure at 0x1f9a1b42518>"
      ]
     },
     "metadata": {},
     "output_type": "display_data"
    }
   ],
   "source": [
    "df_week.plot()\n",
    "plt.show()"
   ]
  },
  {
   "cell_type": "code",
   "execution_count": null,
   "metadata": {},
   "outputs": [],
   "source": []
  }
 ],
 "metadata": {
  "kernelspec": {
   "display_name": "Python 3",
   "language": "python",
   "name": "python3"
  },
  "language_info": {
   "codemirror_mode": {
    "name": "ipython",
    "version": 3
   },
   "file_extension": ".py",
   "mimetype": "text/x-python",
   "name": "python",
   "nbconvert_exporter": "python",
   "pygments_lexer": "ipython3",
   "version": "3.6.4"
  }
 },
 "nbformat": 4,
 "nbformat_minor": 2
}
